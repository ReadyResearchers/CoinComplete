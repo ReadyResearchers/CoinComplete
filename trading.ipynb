{
 "cells": [
  {
   "cell_type": "code",
   "execution_count": null,
   "metadata": {},
   "outputs": [],
   "source": [
    "import tensorflow as tf\n",
    "import numpy as np\n",
    "from binance.client import Client\n",
    "from binance.exceptions import BinanceAPIException\n",
    "from keys import api_key, secret_key"
   ]
  },
  {
   "cell_type": "code",
   "execution_count": null,
   "metadata": {},
   "outputs": [],
   "source": [
    "# Set the name of the model to load\n",
    "model_name = input(\"Enter the name of the model to load: \")"
   ]
  },
  {
   "cell_type": "code",
   "execution_count": null,
   "metadata": {},
   "outputs": [],
   "source": [
    "# Set up the Binance client\n",
    "client = Client(api_key, secret_key, tld=\"us\")"
   ]
  },
  {
   "cell_type": "code",
   "execution_count": null,
   "metadata": {},
   "outputs": [],
   "source": [
    "# Load the saved model\n",
    "model = tf.keras.models.load_model(\"models/{}\".format(model_name))"
   ]
  },
  {
   "cell_type": "code",
   "execution_count": null,
   "metadata": {},
   "outputs": [],
   "source": [
    "symbol = \"BTC\" # CHANGE TARGET COIN HERE\n",
    "# EXPECT INSUFFICIENT FUNDS ; CHECK COIN TRADE REQUIREMENTS HERE https://www.binance.com/en/trade-rule"
   ]
  },
  {
   "cell_type": "code",
   "execution_count": null,
   "metadata": {},
   "outputs": [],
   "source": [
    "# Define a function to preprocess market data\n",
    "def preprocess(market_data):\n",
    "    # Retrieve historical price data from the Binance API\n",
    "    symbol = market_data['symbol']\n",
    "    timeframe = market_data['timeframe']\n",
    "    bars = market_data['bars']\n",
    "    klines = client.get_klines(symbol=symbol, interval=timeframe, limit=max(bars, 60))\n",
    "    # Extract the open, high, low, and close prices from the klines data\n",
    "    prices = np.array([[float(kline[1]), float(kline[2]), float(kline[3]), float(kline[4])] for kline in klines])\n",
    "    # Normalize the prices\n",
    "    prices_norm = (prices - np.mean(prices, axis=0)) / np.std(prices, axis=0)\n",
    "    # Reshape the prices for the model input shape\n",
    "    if len(prices_norm) >= 60:\n",
    "        prices_reshaped = prices_norm[-60:].reshape(-1, 60, 4)\n",
    "    else:\n",
    "        prices_reshaped = np.zeros((1, 60, 4))\n",
    "    # Return the preprocessed data\n",
    "    return prices_reshaped"
   ]
  },
  {
   "cell_type": "code",
   "execution_count": null,
   "metadata": {},
   "outputs": [],
   "source": [
    "# Define a function to postprocess model predictions\n",
    "def postprocess(predictions):\n",
    "    # Return the strength of the predicted market movement\n",
    "    return round(float(predictions[0][0]), 3)"
   ]
  },
  {
   "cell_type": "code",
   "execution_count": null,
   "metadata": {},
   "outputs": [],
   "source": [
    "# Define a function to make predictions on live market data and create market orders\n",
    "def make_predictions_and_create_orders(market_data):\n",
    "    # Make predictions using the loaded model\n",
    "    predictions = model.predict(preprocess(market_data))\n",
    "    # Postprocess the predictions to get the strength of the predicted market movement\n",
    "    market_movement_strength = postprocess(predictions)\n",
    "    # Determine the direction of the predicted market movement\n",
    "    if market_movement_strength > 0:\n",
    "        direction = 'BUY'\n",
    "    else:\n",
    "        direction = 'SELL'\n",
    "    # Determine the size of the market order based on the strength of the prediction\n",
    "    size = float(abs(market_movement_strength) / 100) # Adjust 100 as needed to match your trading amount\n",
    "    size_str = \"{:.6f}\".format(size)\n",
    "    print(size_str)\n",
    "    # Create the market order\n",
    "    try:\n",
    "        order = client.create_order(symbol=market_data['symbol'], side=direction, type='MARKET', quantity=size_str)\n",
    "        print(f'Market order created: {order}')\n",
    "    except BinanceAPIException as e:\n",
    "        print(f'Error creating market order: {e}')"
   ]
  },
  {
   "cell_type": "code",
   "execution_count": null,
   "metadata": {},
   "outputs": [],
   "source": [
    "market_data = {\n",
    "    'symbol': 'BTCUSDT', # CHANGE TARGET COIN HERE\n",
    "    'timeframe': '1h',\n",
    "    'bars': 24 # Predict on the last 24 hours of price data\n",
    "}\n",
    "make_predictions_and_create_orders(market_data)"
   ]
  }
 ],
 "metadata": {
  "kernelspec": {
   "display_name": "Python 3",
   "language": "python",
   "name": "python3"
  },
  "language_info": {
   "codemirror_mode": {
    "name": "ipython",
    "version": 3
   },
   "file_extension": ".py",
   "mimetype": "text/x-python",
   "name": "python",
   "nbconvert_exporter": "python",
   "pygments_lexer": "ipython3",
   "version": "3.9.13"
  },
  "orig_nbformat": 4
 },
 "nbformat": 4,
 "nbformat_minor": 2
}
